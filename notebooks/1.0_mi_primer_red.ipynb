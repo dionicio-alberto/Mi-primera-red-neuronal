{
  "cells": [
    {
      "cell_type": "markdown",
      "metadata": {
        "id": "view-in-github",
        "colab_type": "text"
      },
      "source": [
        "<a href=\"https://colab.research.google.com/github/dionicio-alberto/Mi-primera-red-neuronal/blob/main/notebooks/1.0_mi_primer_red.ipynb\" target=\"_parent\"><img src=\"https://colab.research.google.com/assets/colab-badge.svg\" alt=\"Open In Colab\"/></a>"
      ]
    },
    {
      "cell_type": "code",
      "execution_count": 1,
      "metadata": {
        "id": "p6PEqW1DsDTB"
      },
      "outputs": [],
      "source": [
        "%load_ext autoreload\n",
        "%autoreload 2"
      ]
    },
    {
      "cell_type": "code",
      "source": [
        "print('hola')"
      ],
      "metadata": {
        "colab": {
          "base_uri": "https://localhost:8080/"
        },
        "id": "G4L6lvc9sHd-",
        "outputId": "dd817716-1616-4558-9d35-3ead3ff5a7de"
      },
      "execution_count": 2,
      "outputs": [
        {
          "output_type": "stream",
          "name": "stdout",
          "text": [
            "hola\n"
          ]
        }
      ]
    },
    {
      "cell_type": "markdown",
      "metadata": {
        "id": "ZN2EDZVzsDTC"
      },
      "source": [
        "# Paqueterias"
      ]
    },
    {
      "cell_type": "code",
      "execution_count": null,
      "metadata": {
        "id": "lqxdH6NRsDTC"
      },
      "outputs": [],
      "source": [
        "from pathlib import Path\n",
        "import sys\n",
        "import numpy as np"
      ]
    },
    {
      "cell_type": "code",
      "execution_count": null,
      "metadata": {
        "id": "1cZx0iNhsDTD"
      },
      "outputs": [],
      "source": [
        "CURRENT_DIR = Path('.').resolve()\n",
        "MODULES_DIR = CURRENT_DIR.parent.joinpath('src')\n",
        "sys.path.append(str(MODULES_DIR))"
      ]
    },
    {
      "cell_type": "code",
      "execution_count": null,
      "metadata": {
        "id": "n1NcrHqpsDTD"
      },
      "outputs": [],
      "source": [
        "import red_nueronal.red_neuronal as rn\n",
        "import math_funciones.math_funciones as mf"
      ]
    },
    {
      "cell_type": "markdown",
      "metadata": {
        "id": "kP4NfyE2sDTD"
      },
      "source": [
        "-----\n",
        "# Datos que usaremos para entrenar el modelo"
      ]
    },
    {
      "cell_type": "markdown",
      "metadata": {
        "id": "1eLX3SOtsDTD"
      },
      "source": [
        "Se tienen los siguintes datos con los cuales entrenaremos nuestra red neuronal\n",
        "\n",
        "| A | B | C | Y |\n",
        "|---|---|---|---|\n",
        "| 0 | 0 | 1 | 0 |\n",
        "| 0 | 1 | 1 | 1 |\n",
        "| 1 | 0 | 1 | 1 |\n",
        "| 1 | 1 | 1 | 0 |"
      ]
    },
    {
      "cell_type": "code",
      "execution_count": null,
      "metadata": {
        "id": "HrAvM_pusDTD"
      },
      "outputs": [],
      "source": [
        "a = np.array([[0, 0, 1],[0, 1, 1],[1,0,1],[1,1,1]])\n",
        "y = np.array([[0],[1],[1],[0]])"
      ]
    },
    {
      "cell_type": "markdown",
      "metadata": {
        "id": "wsKevgPBsDTD"
      },
      "source": [
        "-----\n",
        "## Instaciamos nuestra red neuronal"
      ]
    },
    {
      "cell_type": "code",
      "execution_count": null,
      "metadata": {
        "id": "HAG5UwhCsDTD"
      },
      "outputs": [],
      "source": [
        "red = rn.NeuralNetwork(a,y)"
      ]
    },
    {
      "cell_type": "markdown",
      "metadata": {
        "id": "A1YJR-pXsDTD"
      },
      "source": [
        "Podemos ver que de forma automatica, inicia con valores aleatorios para los pesos, los cuales son los siguentes:"
      ]
    },
    {
      "cell_type": "code",
      "execution_count": null,
      "metadata": {
        "id": "kpgficKKsDTD",
        "outputId": "db8020a6-57b5-42f7-b557-d0506b1af839"
      },
      "outputs": [
        {
          "name": "stdout",
          "output_type": "stream",
          "text": [
            "weights1 [[0.5801586  0.38139754 0.16888782 0.02189162]\n",
            " [0.01085602 0.30110002 0.03577326 0.9703407 ]\n",
            " [0.90362595 0.49824703 0.24285637 0.70858382]]\n",
            "weights2 [[0.49233401]\n",
            " [0.205994  ]\n",
            " [0.95766185]\n",
            " [0.62956663]]\n"
          ]
        }
      ],
      "source": [
        "print('weights1',red.weights1)\n",
        "print('weights2',red.weights2)"
      ]
    },
    {
      "cell_type": "markdown",
      "metadata": {
        "id": "5G3rx9-nsDTE"
      },
      "source": [
        "Imprimos el primer y_output que genera:"
      ]
    },
    {
      "cell_type": "code",
      "execution_count": null,
      "metadata": {
        "id": "kYTToqbnsDTE",
        "outputId": "b509ced5-2023-4d89-eecb-989ba2f2a560"
      },
      "outputs": [
        {
          "data": {
            "text/plain": [
              "array([[0.8080028 ],\n",
              "       [0.82767994],\n",
              "       [0.82460281],\n",
              "       [0.84241872]])"
            ]
          },
          "execution_count": 71,
          "metadata": {},
          "output_type": "execute_result"
        }
      ],
      "source": [
        "red.feedforward()\n",
        "red.backprop()\n",
        "red.output"
      ]
    },
    {
      "cell_type": "markdown",
      "metadata": {
        "id": "TXRXMT2tsDTE"
      },
      "source": [
        "Ejecutamos pasos hacia adelante y hacia atras 3000 veces para entrenar a nuestra red neuronal, vemos que los resultados ahora se acercan mucho a los valores reales de **y**, lo que indica que ya esta entrenado de forma exitosa."
      ]
    },
    {
      "cell_type": "code",
      "execution_count": null,
      "metadata": {
        "id": "UqKoWGIXsDTE",
        "outputId": "70fc4183-eb2a-4985-e314-25cfa046e2ef"
      },
      "outputs": [
        {
          "name": "stdout",
          "output_type": "stream",
          "text": [
            "[[0.00896889]\n",
            " [0.98747349]\n",
            " [0.98742596]\n",
            " [0.0105536 ]]\n"
          ]
        }
      ],
      "source": [
        "for i in range(3000):\n",
        "    red.feedforward()\n",
        "    red.backprop()\n",
        "    i+=1\n",
        "print(red.output)"
      ]
    },
    {
      "cell_type": "markdown",
      "metadata": {
        "id": "PP3vfIDIsDTE"
      },
      "source": [
        "Los pesos actuliazados son:"
      ]
    },
    {
      "cell_type": "code",
      "execution_count": null,
      "metadata": {
        "id": "Jaulaz2tsDTE",
        "outputId": "b1b098e1-7a20-4cd1-973d-abccab95398a"
      },
      "outputs": [
        {
          "name": "stdout",
          "output_type": "stream",
          "text": [
            "weights1 [[ 28.12190698   3.87278049  -0.06614089 -24.44303978]\n",
            " [-23.43387053   3.76560405  -0.13507324  29.08601132]\n",
            " [ -1.15469634  -2.31869853  -1.35372724  -1.1996668 ]]\n",
            "weights2 [[-13.88462357]\n",
            " [ 22.38791352]\n",
            " [ -1.20696176]\n",
            " [-13.53577965]]\n"
          ]
        }
      ],
      "source": [
        "print('weights1',red.weights1)\n",
        "print('weights2',red.weights2)"
      ]
    },
    {
      "cell_type": "markdown",
      "metadata": {
        "id": "Z0RZBRg4sDTE"
      },
      "source": [
        "------\n",
        "## Predicicon del modelo\n",
        "Podemos aplicar el modelo para un nuevo valor y nos genera la siguente predicción"
      ]
    },
    {
      "cell_type": "code",
      "execution_count": null,
      "metadata": {
        "id": "XmPPMuNqsDTE",
        "outputId": "01d95f5d-b974-4061-f5ec-12b05bf84f8b"
      },
      "outputs": [
        {
          "name": "stdout",
          "output_type": "stream",
          "text": [
            "[[0.0048183]]\n"
          ]
        }
      ],
      "source": [
        "red.aplicar_modelo(np.array([[1,1,0]]))\n",
        "print(red.prediction)"
      ]
    }
  ],
  "metadata": {
    "kernelspec": {
      "display_name": "platzi",
      "language": "python",
      "name": "python3"
    },
    "language_info": {
      "codemirror_mode": {
        "name": "ipython",
        "version": 3
      },
      "file_extension": ".py",
      "mimetype": "text/x-python",
      "name": "python",
      "nbconvert_exporter": "python",
      "pygments_lexer": "ipython3",
      "version": "3.11.3"
    },
    "orig_nbformat": 4,
    "colab": {
      "provenance": [],
      "include_colab_link": true
    }
  },
  "nbformat": 4,
  "nbformat_minor": 0
}