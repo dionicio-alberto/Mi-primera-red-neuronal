{
 "cells": [
  {
   "cell_type": "code",
   "execution_count": 64,
   "metadata": {},
   "outputs": [
    {
     "name": "stdout",
     "output_type": "stream",
     "text": [
      "The autoreload extension is already loaded. To reload it, use:\n",
      "  %reload_ext autoreload\n"
     ]
    }
   ],
   "source": [
    "%load_ext autoreload\n",
    "%autoreload 2"
   ]
  },
  {
   "attachments": {},
   "cell_type": "markdown",
   "metadata": {},
   "source": [
    "# Paqueterias"
   ]
  },
  {
   "cell_type": "code",
   "execution_count": 65,
   "metadata": {},
   "outputs": [],
   "source": [
    "from pathlib import Path\n",
    "import sys\n",
    "import numpy as np"
   ]
  },
  {
   "cell_type": "code",
   "execution_count": 66,
   "metadata": {},
   "outputs": [],
   "source": [
    "CURRENT_DIR = Path('.').resolve()\n",
    "MODULES_DIR = CURRENT_DIR.parent.joinpath('src')\n",
    "sys.path.append(str(MODULES_DIR))"
   ]
  },
  {
   "cell_type": "code",
   "execution_count": 67,
   "metadata": {},
   "outputs": [],
   "source": [
    "import red_nueronal.red_neuronal as rn\n",
    "import math_funciones.math_funciones as mf"
   ]
  },
  {
   "attachments": {},
   "cell_type": "markdown",
   "metadata": {},
   "source": [
    "-----\n",
    "# Datos que usaremos para entrenar el modelo"
   ]
  },
  {
   "attachments": {},
   "cell_type": "markdown",
   "metadata": {},
   "source": [
    "Se tienen los siguintes datos con los cuales entrenaremos nuestra red neuronal\n",
    "\n",
    "| A | B | C | Y |\n",
    "|---|---|---|---|\n",
    "| 0 | 0 | 1 | 0 |\n",
    "| 0 | 1 | 1 | 1 |\n",
    "| 1 | 0 | 1 | 1 |\n",
    "| 1 | 1 | 1 | 0 |"
   ]
  },
  {
   "cell_type": "code",
   "execution_count": 68,
   "metadata": {},
   "outputs": [],
   "source": [
    "a = np.array([[0, 0, 1],[0, 1, 1],[1,0,1],[1,1,1]])\n",
    "y = np.array([[0],[1],[1],[0]])"
   ]
  },
  {
   "attachments": {},
   "cell_type": "markdown",
   "metadata": {},
   "source": [
    "-----\n",
    "## Instaciamos nuestra red neuronal"
   ]
  },
  {
   "cell_type": "code",
   "execution_count": 69,
   "metadata": {},
   "outputs": [],
   "source": [
    "red = rn.NeuralNetwork(a,y)"
   ]
  },
  {
   "attachments": {},
   "cell_type": "markdown",
   "metadata": {},
   "source": [
    "Podemos ver que de forma automatica, inicia con valores aleatorios para los pesos, los cuales son los siguentes:"
   ]
  },
  {
   "cell_type": "code",
   "execution_count": 70,
   "metadata": {},
   "outputs": [
    {
     "name": "stdout",
     "output_type": "stream",
     "text": [
      "weights1 [[0.5801586  0.38139754 0.16888782 0.02189162]\n",
      " [0.01085602 0.30110002 0.03577326 0.9703407 ]\n",
      " [0.90362595 0.49824703 0.24285637 0.70858382]]\n",
      "weights2 [[0.49233401]\n",
      " [0.205994  ]\n",
      " [0.95766185]\n",
      " [0.62956663]]\n"
     ]
    }
   ],
   "source": [
    "print('weights1',red.weights1)\n",
    "print('weights2',red.weights2)"
   ]
  },
  {
   "attachments": {},
   "cell_type": "markdown",
   "metadata": {},
   "source": [
    "Imprimos el primer y_output que genera:"
   ]
  },
  {
   "cell_type": "code",
   "execution_count": 71,
   "metadata": {},
   "outputs": [
    {
     "data": {
      "text/plain": [
       "array([[0.8080028 ],\n",
       "       [0.82767994],\n",
       "       [0.82460281],\n",
       "       [0.84241872]])"
      ]
     },
     "execution_count": 71,
     "metadata": {},
     "output_type": "execute_result"
    }
   ],
   "source": [
    "red.feedforward()\n",
    "red.backprop()\n",
    "red.output"
   ]
  },
  {
   "attachments": {},
   "cell_type": "markdown",
   "metadata": {},
   "source": [
    "Ejecutamos pasos hacia adelante y hacia atras 3000 veces para entrenar a nuestra red neuronal, vemos que los resultados ahora se acercan mucho a los valores reales de **y**, lo que indica que ya esta entrenado de forma exitosa. "
   ]
  },
  {
   "cell_type": "code",
   "execution_count": 72,
   "metadata": {},
   "outputs": [
    {
     "name": "stdout",
     "output_type": "stream",
     "text": [
      "[[0.00896889]\n",
      " [0.98747349]\n",
      " [0.98742596]\n",
      " [0.0105536 ]]\n"
     ]
    }
   ],
   "source": [
    "for i in range(3000):\n",
    "    red.feedforward()\n",
    "    red.backprop()\n",
    "    i+=1\n",
    "print(red.output)"
   ]
  },
  {
   "attachments": {},
   "cell_type": "markdown",
   "metadata": {},
   "source": [
    "Los pesos actuliazados son:"
   ]
  },
  {
   "cell_type": "code",
   "execution_count": 73,
   "metadata": {},
   "outputs": [
    {
     "name": "stdout",
     "output_type": "stream",
     "text": [
      "weights1 [[ 28.12190698   3.87278049  -0.06614089 -24.44303978]\n",
      " [-23.43387053   3.76560405  -0.13507324  29.08601132]\n",
      " [ -1.15469634  -2.31869853  -1.35372724  -1.1996668 ]]\n",
      "weights2 [[-13.88462357]\n",
      " [ 22.38791352]\n",
      " [ -1.20696176]\n",
      " [-13.53577965]]\n"
     ]
    }
   ],
   "source": [
    "print('weights1',red.weights1)\n",
    "print('weights2',red.weights2)"
   ]
  },
  {
   "attachments": {},
   "cell_type": "markdown",
   "metadata": {},
   "source": [
    "------\n",
    "## Predicicon del modelo\n",
    "Podemos aplicar el modelo para un nuevo valor y nos genera la siguente predicción"
   ]
  },
  {
   "cell_type": "code",
   "execution_count": 74,
   "metadata": {},
   "outputs": [
    {
     "name": "stdout",
     "output_type": "stream",
     "text": [
      "[[0.0048183]]\n"
     ]
    }
   ],
   "source": [
    "red.aplicar_modelo(np.array([[1,1,0]]))\n",
    "print(red.prediction)"
   ]
  }
 ],
 "metadata": {
  "kernelspec": {
   "display_name": "platzi",
   "language": "python",
   "name": "python3"
  },
  "language_info": {
   "codemirror_mode": {
    "name": "ipython",
    "version": 3
   },
   "file_extension": ".py",
   "mimetype": "text/x-python",
   "name": "python",
   "nbconvert_exporter": "python",
   "pygments_lexer": "ipython3",
   "version": "3.11.3"
  },
  "orig_nbformat": 4
 },
 "nbformat": 4,
 "nbformat_minor": 2
}
